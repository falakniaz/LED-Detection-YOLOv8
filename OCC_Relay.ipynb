{
  "nbformat": 4,
  "nbformat_minor": 0,
  "metadata": {
    "colab": {
      "provenance": [],
      "gpuType": "T4",
      "authorship_tag": "ABX9TyNEZb9CX+2UOfr/o3rqfXWy",
      "include_colab_link": true
    },
    "kernelspec": {
      "name": "python3",
      "display_name": "Python 3"
    },
    "language_info": {
      "name": "python"
    },
    "accelerator": "GPU"
  },
  "cells": [
    {
      "cell_type": "markdown",
      "metadata": {
        "id": "view-in-github",
        "colab_type": "text"
      },
      "source": [
        "<a href=\"https://colab.research.google.com/github/falakniaz/LED-Detection-YOLOv8/blob/main/OCC_Relay.ipynb\" target=\"_parent\"><img src=\"https://colab.research.google.com/assets/colab-badge.svg\" alt=\"Open In Colab\"/></a>"
      ]
    },
    {
      "cell_type": "code",
      "execution_count": 42,
      "metadata": {
        "id": "A02mm_IddouJ"
      },
      "outputs": [],
      "source": [
        "import numpy as np\n",
        "import csv\n",
        "from collections import Counter\n",
        "from sklearn.decomposition import PCA\n",
        "import matplotlib.pyplot as plt\n"
      ]
    },
    {
      "cell_type": "code",
      "source": [
        "class AdaptiveWeightedKNN:\n",
        "    \"\"\"\n",
        "    Adaptive Weighted KNN for OCC relay selection.\n",
        "    Uses adaptive k based on data variance and weighted distance by feature importance.\n",
        "    \"\"\"\n",
        "    def __init__(self, feature_weights, base_k=3, max_k=None, distance_weighted=False):\n",
        "        \"\"\"\n",
        "        :param feature_weights: np.array of feature weights (sum ~1 recommended)\n",
        "        :param base_k: minimal number of neighbors\n",
        "        :param max_k: maximal number of neighbors\n",
        "        :param distance_weighted: if True, do distance-weighted voting\n",
        "        \"\"\"\n",
        "        self.feature_weights = np.array(feature_weights)\n",
        "        self.base_k = base_k\n",
        "        self.max_k = max_k\n",
        "        self.distance_weighted = distance_weighted\n",
        "        self.X_train = None\n",
        "        self.y_train = None\n",
        "\n",
        "    def fit(self, X, y):\n",
        "        \"\"\"\n",
        "        Store training data.\n",
        "        :param X: ndarray, shape (n_samples, n_features)\n",
        "        :param y: ndarray, shape (n_samples,)\n",
        "        \"\"\"\n",
        "        self.X_train = X\n",
        "        self.y_train = y\n",
        "\n",
        "    def _adaptive_k(self):\n",
        "        \"\"\"\n",
        "        Compute adaptive k based on mean variance of training data.\n",
        "        \"\"\"\n",
        "        if self.X_train is None:\n",
        "            raise ValueError(\"Model not trained. Use fit() first.\")\n",
        "        var = np.var(self.X_train, axis=0).mean()\n",
        "        adaptive_k = int(self.base_k + var * 10)\n",
        "        if self.max_k:\n",
        "            adaptive_k = min(adaptive_k, self.max_k)\n",
        "        adaptive_k = min(adaptive_k, len(self.X_train))\n",
        "        return max(adaptive_k, 1)\n",
        "\n",
        "    def _weighted_distance(self, x1, x2):\n",
        "        \"\"\"\n",
        "        Compute weighted Euclidean distance.\n",
        "        \"\"\"\n",
        "        return np.sqrt(np.sum(self.feature_weights * (x1 - x2) ** 2))\n",
        "\n",
        "    def adapt_feature_weights(self, recent_metrics_window):\n",
        "\n",
        "        variances = np.var(recent_metrics_window, axis=0)\n",
        "        sum_var = np.sum(variances) + 1e-6\n",
        "        new_weights = variances / sum_var\n",
        "        self.feature_weights = new_weights\n",
        "        print(f\"Adaptive feature weights: {np.round(new_weights,3)}\")\n",
        "\n",
        "\n",
        "    def predict(self, new_sample):\n",
        "        \"\"\"\n",
        "        Predict best relay for new sample.\n",
        "        :param new_sample: ndarray, shape (n_features,)\n",
        "        :return: predicted relay label\n",
        "        \"\"\"\n",
        "        k = self._adaptive_k()\n",
        "        distances = []\n",
        "        for xi, yi in zip(self.X_train, self.y_train):\n",
        "            d = self._weighted_distance(new_sample, xi)\n",
        "            distances.append((d, yi))\n",
        "\n",
        "        distances.sort(key=lambda x: x[0])\n",
        "        nearest_k = distances[:k]\n",
        "\n",
        "        if self.distance_weighted:\n",
        "            # nearer neighbor → higher vote weight\n",
        "            votes = Counter()\n",
        "            for dist, label in nearest_k:\n",
        "                weight = 1 / (dist + 1e-6)\n",
        "                votes[label] += weight\n",
        "            predicted = votes.most_common(1)[0][0]\n",
        "        else:\n",
        "            labels = [label for _, label in nearest_k]\n",
        "            vote_counts = Counter(labels)\n",
        "            predicted = vote_counts.most_common(1)[0][0]\n",
        "\n",
        "        return predicted, nearest_k\n",
        "\n",
        "    def save_dataset(self, filename):\n",
        "        \"\"\"\n",
        "        Save dataset to CSV.\n",
        "        \"\"\"\n",
        "        if self.X_train is None or self.y_train is None:\n",
        "            raise ValueError(\"No dataset to save.\")\n",
        "        data = np.hstack((self.X_train, self.y_train.reshape(-1,1)))\n",
        "        with open(filename, 'w', newline='') as f:\n",
        "            writer = csv.writer(f)\n",
        "            writer.writerows(data)\n",
        "        print(f\"Dataset saved to {filename}\")\n",
        "\n",
        "    def load_dataset(self, filename):\n",
        "        \"\"\"\n",
        "        Load dataset from CSV.\n",
        "        \"\"\"\n",
        "        data = np.loadtxt(filename, delimiter=',')\n",
        "        self.X_train = data[:, :-1]\n",
        "        self.y_train = data[:, -1].astype(int)\n",
        "        print(f\"Dataset loaded from {filename}\")\n",
        "\n",
        "    def plot_decision_boundary(self):\n",
        "        \"\"\"\n",
        "        Visualize dataset in 2D using PCA and show class distribution.\n",
        "        \"\"\"\n",
        "        if self.X_train is None:\n",
        "            raise ValueError(\"Model not trained.\")\n",
        "        pca = PCA(n_components=2)\n",
        "        X_pca = pca.fit_transform(self.X_train)\n",
        "        plt.figure(figsize=(6,6))\n",
        "        for label in np.unique(self.y_train):\n",
        "            idx = self.y_train == label\n",
        "            plt.scatter(X_pca[idx,0], X_pca[idx,1], label=f\"Relay {label}\")\n",
        "        plt.title(\"Dataset visualization (PCA)\")\n",
        "        plt.legend()\n",
        "        plt.show()"
      ],
      "metadata": {
        "id": "Rueq8CcIGRgg"
      },
      "execution_count": 43,
      "outputs": []
    },
    {
      "cell_type": "code",
      "source": [
        "# === Example usage ===\n",
        "if __name__ == \"__main__\":\n",
        "    # Example feature weights: [FDSR, SAR, Contrast, DropRate]\n",
        "    feature_weights = np.array([0.4, 0.3, 0.1, 0.2])\n",
        "    model = AdaptiveWeightedKNN(feature_weights, base_k=3, max_k=5, distance_weighted=True)\n",
        "\n",
        "    # Example dataset: replace with real OCC metrics\n",
        "    dataset = np.array([\n",
        "        [0.95, 3.2, 0.5, 0.01, 1],\n",
        "        [0.90, 2.8, 0.4, 0.05, 2],\n",
        "        [0.88, 2.5, 0.3, 0.10, 3],\n",
        "        [0.96, 3.5, 0.6, 0.02, 1],\n",
        "        [0.89, 2.9, 0.45, 0.07, 2],\n",
        "        [0.91, 3.0, 0.5, 0.03, 1]\n",
        "    ])\n",
        "    X = dataset[:, :-1]\n",
        "    y = dataset[:, -1].astype(int)\n",
        "\n",
        "    model.fit(X, y)"
      ],
      "metadata": {
        "id": "MJ7xl21GGdFA"
      },
      "execution_count": 44,
      "outputs": []
    },
    {
      "cell_type": "code",
      "source": [
        "    # New sample from OCC testbed\n",
        "    new_metrics = np.array([0.92, 3.1, 0.48, 0.04])\n",
        "\n",
        "    predicted, neighbors = model.predict(new_metrics)\n",
        "    print(f\"\\nPredicted best relay: Relay {predicted}\")\n",
        "    print(\"\\nNearest neighbors:\")\n",
        "    for dist, label in neighbors:\n",
        "        print(f\"Relay {label}, distance={dist:.4f}\")"
      ],
      "metadata": {
        "colab": {
          "base_uri": "https://localhost:8080/"
        },
        "id": "aKAaYr4WGhnB",
        "outputId": "51c8e4c0-4ecd-4183-8d53-2f632226fc0c"
      },
      "execution_count": 45,
      "outputs": [
        {
          "output_type": "stream",
          "name": "stdout",
          "text": [
            "\n",
            "Predicted best relay: Relay 1\n",
            "\n",
            "Nearest neighbors:\n",
            "Relay 1, distance=0.0557\n",
            "Relay 1, distance=0.0598\n",
            "Relay 2, distance=0.1124\n"
          ]
        }
      ]
    },
    {
      "cell_type": "code",
      "source": [
        "\n",
        "    # Optional: save/load\n",
        "    model.save_dataset(\"occ_dataset.csv\")\n",
        "    model.load_dataset(\"occ_dataset.csv\")\n",
        "\n",
        "    # Optional: plot\n",
        "    model.plot_decision_boundary()\n"
      ],
      "metadata": {
        "colab": {
          "base_uri": "https://localhost:8080/",
          "height": 580
        },
        "id": "xPLLnsBOGko_",
        "outputId": "5fe24f8b-565e-4785-a5f4-228b57c29414"
      },
      "execution_count": 46,
      "outputs": [
        {
          "output_type": "stream",
          "name": "stdout",
          "text": [
            "Dataset saved to occ_dataset.csv\n",
            "Dataset loaded from occ_dataset.csv\n"
          ]
        },
        {
          "output_type": "display_data",
          "data": {
            "text/plain": [
              "<Figure size 600x600 with 1 Axes>"
            ],
            "image/png": "[encoded data removed]"
          },
          "metadata": {}
        }
      ]
    },
    {
      "cell_type": "code",
      "source": [],
      "metadata": {
        "id": "1MHv_1l0GoPw"
      },
      "execution_count": null,
      "outputs": []
    }
  ]
}